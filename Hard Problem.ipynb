{
 "cells": [
  {
   "cell_type": "code",
   "execution_count": null,
   "id": "aae8cc4f-53f1-4074-b223-9ed93411a33d",
   "metadata": {},
   "outputs": [],
   "source": []
  },
  {
   "cell_type": "code",
   "execution_count": 9,
   "id": "a41aaa76-0cdc-488f-922b-aa0733e48afe",
   "metadata": {},
   "outputs": [],
   "source": [
    "my_str='h2el5lo@#*D$'\n",
    "for i in my_str:\n",
    "    try:\n",
    "        i=int(i)\n",
    "    except:\n",
    "        if i.swapcase()==i:\n",
    "            my_str=my_str.replace(i,'.999.')\n",
    "ranges=my_str.count('..')\n",
    "for i in range(ranges):\n",
    "    my_str=my_str.replace('..','.')"
   ]
  },
  {
   "cell_type": "code",
   "execution_count": 10,
   "id": "fa4dfe10-f6e8-458e-971e-2765a918ae79",
   "metadata": {},
   "outputs": [
    {
     "data": {
      "text/plain": [
       "'h2el5lo.999.999.999.D.999.'"
      ]
     },
     "execution_count": 10,
     "metadata": {},
     "output_type": "execute_result"
    }
   ],
   "source": [
    "my_str"
   ]
  },
  {
   "cell_type": "code",
   "execution_count": 12,
   "id": "b1527e83-1d88-47b5-a8a2-c5409555e8d0",
   "metadata": {},
   "outputs": [
    {
     "name": "stdout",
     "output_type": "stream",
     "text": [
      "8.2.5.12.5.12.15.999.999.999.4.999\n"
     ]
    }
   ],
   "source": [
    "import re\n",
    "f=''\n",
    "#pattern for seperating integers between strings\n",
    "lists=re.split(r'(\\d+)', my_str)\n",
    "lists=lists[0:-1]\n",
    "for i in lists:\n",
    "    try:\n",
    "        k=int(i)-1\n",
    "        f=f+str(i)+'.'\n",
    "    except:\n",
    "        for p in i:\n",
    "            for j in range(65,91):\n",
    "                if chr(j)==p.upper():\n",
    "                    f=f+str(j-64)+'.'\n",
    "print(f[0:-1])"
   ]
  },
  {
   "cell_type": "code",
   "execution_count": null,
   "id": "79a6ef33-9f8c-4805-b8af-b5530c94bb01",
   "metadata": {},
   "outputs": [],
   "source": []
  }
 ],
 "metadata": {
  "kernelspec": {
   "display_name": "Python 3 (ipykernel)",
   "language": "python",
   "name": "python3"
  },
  "language_info": {
   "codemirror_mode": {
    "name": "ipython",
    "version": 3
   },
   "file_extension": ".py",
   "mimetype": "text/x-python",
   "name": "python",
   "nbconvert_exporter": "python",
   "pygments_lexer": "ipython3",
   "version": "3.9.12"
  }
 },
 "nbformat": 4,
 "nbformat_minor": 5
}
